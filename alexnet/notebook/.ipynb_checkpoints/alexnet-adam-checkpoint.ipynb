{
 "cells": [
  {
   "cell_type": "code",
   "execution_count": 1,
   "metadata": {
    "collapsed": false
   },
   "outputs": [
    {
     "name": "stdout",
     "output_type": "stream",
     "text": [
      "/home/jiawei/code/github/MyTensorFlowCode/alexnet\n"
     ]
    }
   ],
   "source": [
    "cd .."
   ]
  },
  {
   "cell_type": "code",
   "execution_count": 1,
   "metadata": {
    "collapsed": false
   },
   "outputs": [],
   "source": [
    "run tflearn_alexnet.py adam 0.05"
   ]
  },
  {
   "cell_type": "code",
   "execution_count": 2,
   "metadata": {
    "collapsed": false
   },
   "outputs": [
    {
     "ename": "SyntaxError",
     "evalue": "invalid syntax (<ipython-input-2-971f7f11ca91>, line 1)",
     "output_type": "error",
     "traceback": [
      "\u001b[0;36m  File \u001b[0;32m\"<ipython-input-2-971f7f11ca91>\"\u001b[0;36m, line \u001b[0;32m1\u001b[0m\n\u001b[0;31m    Training Step: 4000  | total loss: 2.87701\u001b[0m\n\u001b[0m                ^\u001b[0m\n\u001b[0;31mSyntaxError\u001b[0m\u001b[0;31m:\u001b[0m invalid syntax\n"
     ]
    }
   ],
   "source": [
    "Training Step: 4000  | total loss: 2.87701\n",
    "| Adam | epoch: 200 | loss: 2.87701 - acc: 0.0525 | val_loss: 2.85597 - val_acc: 0.0735 -- iter: 1224/1224\n",
    "--\n",
    "WARNING:tensorflow:Error encountered when serializing graph_config.\n",
    "Type is unsupported, or the types of the items don't match field type in CollectionDef.\n",
    "'ConfigProto' object has no attribute 'name'\n",
    "Total time of training: 3:44:51.996071"
   ]
  },
  {
   "cell_type": "code",
   "execution_count": null,
   "metadata": {
    "collapsed": true
   },
   "outputs": [],
   "source": []
  }
 ],
 "metadata": {
  "kernelspec": {
   "display_name": "Python [tensorflow]",
   "language": "python",
   "name": "Python [tensorflow]"
  },
  "language_info": {
   "codemirror_mode": {
    "name": "ipython",
    "version": 2
   },
   "file_extension": ".py",
   "mimetype": "text/x-python",
   "name": "python",
   "nbconvert_exporter": "python",
   "pygments_lexer": "ipython2",
   "version": "2.7.12"
  }
 },
 "nbformat": 4,
 "nbformat_minor": 0
}
