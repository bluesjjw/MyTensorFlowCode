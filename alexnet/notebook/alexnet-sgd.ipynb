{
 "cells": [
  {
   "cell_type": "code",
   "execution_count": 1,
   "metadata": {
    "collapsed": false
   },
   "outputs": [
    {
     "name": "stdout",
     "output_type": "stream",
     "text": [
      "/home/jiawei/code/github/MyTensorFlowCode/alexnet\n"
     ]
    }
   ],
   "source": [
    "cd .."
   ]
  },
  {
   "cell_type": "code",
   "execution_count": 3,
   "metadata": {
    "collapsed": false
   },
   "outputs": [
    {
     "name": "stdout",
     "output_type": "stream",
     "text": [
      "Training Step: 4000  | total loss: \u001b[1m\u001b[32m2.67138\u001b[0m\u001b[0m\n",
      "| SGD | epoch: 200 | loss: 2.67138 - acc: 0.2732 | val_loss: 2.72386 - val_acc: 0.1985 -- iter: 1224/1224\n",
      "Training Step: 4000  | total loss: \u001b[1m\u001b[32m2.67138\u001b[0m\u001b[0m\n",
      "| SGD | epoch: 200 | loss: 2.67138 - acc: 0.2732 | val_loss: 2.72386 - val_acc: 0.1985 -- iter: 1224/1224\n",
      "--\n"
     ]
    },
    {
     "name": "stderr",
     "output_type": "stream",
     "text": [
      "WARNING:tensorflow:Error encountered when serializing graph_config.\n",
      "Type is unsupported, or the types of the items don't match field type in CollectionDef.\n",
      "'ConfigProto' object has no attribute 'name'\n"
     ]
    }
   ],
   "source": [
    "run tflearn_alexnet.py sgd 0.001"
   ]
  },
  {
   "cell_type": "code",
   "execution_count": 3,
   "metadata": {
    "collapsed": false
   },
   "outputs": [
    {
     "name": "stdout",
     "output_type": "stream",
     "text": [
      "Training Step: 4000  | total loss: \u001b[1m\u001b[32m2.45778\u001b[0m\u001b[0m\n",
      "| SGD | epoch: 200 | loss: 2.45778 - acc: 0.5083 | val_loss: 2.48093 - val_acc: 0.4485 -- iter: 1224/1224\n",
      "Training Step: 4000  | total loss: \u001b[1m\u001b[32m2.45778\u001b[0m\u001b[0m\n",
      "| SGD | epoch: 200 | loss: 2.45778 - acc: 0.5083 | val_loss: 2.48093 - val_acc: 0.4485 -- iter: 1224/1224\n",
      "--\n"
     ]
    },
    {
     "name": "stderr",
     "output_type": "stream",
     "text": [
      "WARNING:tensorflow:Error encountered when serializing graph_config.\n",
      "Type is unsupported, or the types of the items don't match field type in CollectionDef.\n",
      "'ConfigProto' object has no attribute 'name'\n"
     ]
    }
   ],
   "source": [
    "run tflearn_alexnet.py sgd 0.003"
   ]
  },
  {
   "cell_type": "code",
   "execution_count": 4,
   "metadata": {
    "collapsed": false
   },
   "outputs": [
    {
     "name": "stdout",
     "output_type": "stream",
     "text": [
      "Training Step: 4000  | total loss: \u001b[1m\u001b[32m2.09419\u001b[0m\u001b[0m\n",
      "| SGD | epoch: 200 | loss: 2.09419 - acc: 0.8675 | val_loss: 2.28084 - val_acc: 0.6544 -- iter: 1224/1224\n",
      "Training Step: 4000  | total loss: \u001b[1m\u001b[32m2.09419\u001b[0m\u001b[0m\n",
      "| SGD | epoch: 200 | loss: 2.09419 - acc: 0.8675 | val_loss: 2.28084 - val_acc: 0.6544 -- iter: 1224/1224\n",
      "--\n"
     ]
    },
    {
     "name": "stderr",
     "output_type": "stream",
     "text": [
      "WARNING:tensorflow:Error encountered when serializing graph_config.\n",
      "Type is unsupported, or the types of the items don't match field type in CollectionDef.\n",
      "'ConfigProto' object has no attribute 'name'\n"
     ]
    }
   ],
   "source": [
    "run tflearn_alexnet.py sgd 0.01"
   ]
  },
  {
   "cell_type": "code",
   "execution_count": 2,
   "metadata": {
    "collapsed": false
   },
   "outputs": [
    {
     "name": "stdout",
     "output_type": "stream",
     "text": [
      "Training Step: 4000  | total loss: \u001b[1m\u001b[32m2.06072\u001b[0m\u001b[0m\n",
      "| SGD | epoch: 200 | loss: 2.06072 - acc: 0.8692 | val_loss: 2.33765 - val_acc: 0.5956 -- iter: 1224/1224\n",
      "Training Step: 4000  | total loss: \u001b[1m\u001b[32m2.06072\u001b[0m\u001b[0m\n",
      "| SGD | epoch: 200 | loss: 2.06072 - acc: 0.8692 | val_loss: 2.33765 - val_acc: 0.5956 -- iter: 1224/1224\n",
      "--\n"
     ]
    },
    {
     "name": "stderr",
     "output_type": "stream",
     "text": [
      "WARNING:tensorflow:Error encountered when serializing graph_config.\n",
      "Type is unsupported, or the types of the items don't match field type in CollectionDef.\n",
      "'ConfigProto' object has no attribute 'name'\n"
     ]
    }
   ],
   "source": [
    "run tflearn_alexnet.py sgd 0.05"
   ]
  },
  {
   "cell_type": "code",
   "execution_count": 2,
   "metadata": {
    "collapsed": false
   },
   "outputs": [
    {
     "name": "stdout",
     "output_type": "stream",
     "text": [
      "Training Step: 4000  | total loss: \u001b[1m\u001b[32m2.13088\u001b[0m\u001b[0m\n",
      "| SGD | epoch: 200 | loss: 2.13088 - acc: 0.8123 | val_loss: 2.25291 - val_acc: 0.6691 -- iter: 1224/1224\n",
      "Training Step: 4000  | total loss: \u001b[1m\u001b[32m2.13088\u001b[0m\u001b[0m\n",
      "| SGD | epoch: 200 | loss: 2.13088 - acc: 0.8123 | val_loss: 2.25291 - val_acc: 0.6691 -- iter: 1224/1224\n",
      "--\n"
     ]
    },
    {
     "name": "stderr",
     "output_type": "stream",
     "text": [
      "WARNING:tensorflow:Error encountered when serializing graph_config.\n",
      "Type is unsupported, or the types of the items don't match field type in CollectionDef.\n",
      "'ConfigProto' object has no attribute 'name'\n"
     ]
    }
   ],
   "source": [
    "run tflearn_alexnet.py sgd 0.02"
   ]
  },
  {
   "cell_type": "code",
   "execution_count": null,
   "metadata": {
    "collapsed": true
   },
   "outputs": [],
   "source": []
  }
 ],
 "metadata": {
  "kernelspec": {
   "display_name": "Python [tensorflow]",
   "language": "python",
   "name": "Python [tensorflow]"
  },
  "language_info": {
   "codemirror_mode": {
    "name": "ipython",
    "version": 2
   },
   "file_extension": ".py",
   "mimetype": "text/x-python",
   "name": "python",
   "nbconvert_exporter": "python",
   "pygments_lexer": "ipython2",
   "version": "2.7.12"
  }
 },
 "nbformat": 4,
 "nbformat_minor": 0
}
